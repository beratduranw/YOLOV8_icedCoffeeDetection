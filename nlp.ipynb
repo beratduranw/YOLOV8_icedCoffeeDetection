{
 "cells": [
  {
   "cell_type": "code",
   "execution_count": 1,
   "outputs": [
    {
     "name": "stderr",
     "output_type": "stream",
     "text": [
      "[nltk_data] Downloading package averaged_perceptron_tagger to\n",
      "[nltk_data]     C:\\Users\\dell\\AppData\\Roaming\\nltk_data...\n",
      "[nltk_data]   Package averaged_perceptron_tagger is already up-to-\n",
      "[nltk_data]       date!\n"
     ]
    }
   ],
   "source": [
    "import nltk\n",
    "nltk.download(\"averaged_perceptron_tagger\")\n",
    "import Levenshtein"
   ],
   "metadata": {
    "collapsed": false,
    "ExecuteTime": {
     "end_time": "2023-05-31T15:53:54.006349300Z",
     "start_time": "2023-05-31T15:53:06.616842900Z"
    }
   }
  },
  {
   "cell_type": "code",
   "execution_count": 6,
   "outputs": [
    {
     "name": "stdout",
     "output_type": "stream",
     "text": [
      "iced_coffee - iced_coffee | Score: 0\n"
     ]
    }
   ],
   "source": [
    "# Function to test if something is a noun\n",
    "is_noun = lambda pos: pos[:2] == 'NN'\n",
    "\n",
    "# Get input sentence from the user\n",
    "sentence = input(\"Enter a sentence: \")\n",
    "\n",
    "# Tokenize the sentence and extract nouns\n",
    "tokenized = nltk.word_tokenize(sentence)\n",
    "nouns = [word for (word, pos) in nltk.pos_tag(tokenized) if is_noun(pos)]\n",
    "\n",
    "# Read class names from the file\n",
    "file_path = 'data/train/labels/classes.txt'\n",
    "\n",
    "with open(file_path, 'r') as file:\n",
    "    class_names = file.readlines()\n",
    "\n",
    "# Strip any leading or trailing whitespace characters from each class name\n",
    "class_names = [class_name.strip() for class_name in class_names]\n",
    "\n",
    "# Calculate similarity scores using Levenshtein distance\n",
    "noun_scores = {}\n",
    "for noun in nouns:\n",
    "    scores = [(class_name, Levenshtein.distance(noun, class_name)) for class_name in class_names]\n",
    "    min_score = min(scores, key=lambda x: x[1])\n",
    "    noun_scores[noun] = min_score\n",
    "\n",
    "\n",
    "# Print noun scores which has enough similarities with the classes in filePath\n",
    "for noun, (class_name, score) in noun_scores.items():\n",
    "    if score < len(class_name) * 0.2:\n",
    "        print(f\"{noun} - {class_name} | Score: {score}\")\n"
   ],
   "metadata": {
    "collapsed": false,
    "ExecuteTime": {
     "end_time": "2023-05-31T15:55:38.160837900Z",
     "start_time": "2023-05-31T15:55:30.114096700Z"
    }
   }
  },
  {
   "cell_type": "code",
   "execution_count": null,
   "outputs": [],
   "source": [],
   "metadata": {
    "collapsed": false
   }
  }
 ],
 "metadata": {
  "kernelspec": {
   "display_name": "Python 3",
   "language": "python",
   "name": "python3"
  },
  "language_info": {
   "codemirror_mode": {
    "name": "ipython",
    "version": 2
   },
   "file_extension": ".py",
   "mimetype": "text/x-python",
   "name": "python",
   "nbconvert_exporter": "python",
   "pygments_lexer": "ipython2",
   "version": "2.7.6"
  }
 },
 "nbformat": 4,
 "nbformat_minor": 0
}
